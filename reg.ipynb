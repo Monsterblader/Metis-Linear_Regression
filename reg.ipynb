{
  "cells": [
    {
      "cell_type": "code",
      "metadata": {},
      "source": [
        "import csv\n",
        "import pandas as pd\n",
        "import numpy as np\n",
        "import seaborn as sns\n",
        "import matplotlib.pyplot as plt\n",
        "import statsmodels.api as sm\n",
        "from sklearn import linear_model, metrics\n",
        "from sklearn.linear_model import LinearRegression, LassoCV, Lasso, RidgeCV, Ridge\n",
        "from sklearn.model_selection import cross_val_score, GridSearchCV, KFold\n",
        "from sklearn.preprocessing import PolynomialFeatures, StandardScaler\n",
        "from sklearn.model_selection import train_test_split\n",
        "from sklearn.metrics import mean_squared_error, make_scorer, r2_score\n",
        "\n",
        "import myfunc\n",
        "\n",
        "%matplotlib inline"
      ],
      "outputs": [],
      "execution_count": null
    },
    {
      "source": [
        "# Feature impotance"
      ],
      "cell_type": "markdown",
      "metadata": {}
    },
    {
      "cell_type": "code",
      "metadata": {},
      "source": [
        "# Prepares movie data.\n",
        "\n",
        "movie_set = myfunc.make_movie_set()"
      ],
      "outputs": [],
      "execution_count": null
    },
    {
      "cell_type": "code",
      "execution_count": null,
      "metadata": {},
      "outputs": [],
      "source": [
        "# Alternate to preparing movie data - loads prepared movie data.\n",
        "\n",
        "movie_set = pd.read_csv('data/reg_movie_set.csv')"
      ]
    },
    {
      "cell_type": "code",
      "execution_count": null,
      "metadata": {
        "tags": []
      },
      "outputs": [],
      "source": [
        "# Sets up the train-test split\n",
        "X = movie_set.drop('Gross', axis=1)\n",
        "y = movie_set['Gross']\n",
        "\n",
        "x_train_val, x_test, y_train_val, y_test = train_test_split(X, y, test_size=0.2, random_state=42)\n",
        "x_train, x_val, y_train, y_val = train_test_split(x_train_val, y_train_val, test_size=0.2, random_state=99)\n",
        "\n",
        "y_train = y_train.to_numpy().reshape(-1, 1)\n",
        "y_test = y_test.to_numpy().reshape(-1, 1)\n",
        "\n",
        "# Sanity check\n",
        "print('Train - Predictors shape', x_train.shape)\n",
        "print('Test - Predictors shape', x_test.shape)\n",
        "print('Train - Target shape', y_train.shape)\n",
        "print('Test - Target shape', y_test.shape)"
      ]
    },
    {
      "cell_type": "code",
      "execution_count": null,
      "metadata": {},
      "outputs": [],
      "source": [
        "# Scales the training data.\n",
        "\n",
        "scaler = StandardScaler()\n",
        "\n",
        "x_train_standard = scaler.fit_transform(x_train)\n",
        "x_val_standard = scaler.transform(x_val)"
      ]
    },
    {
      "cell_type": "code",
      "execution_count": null,
      "metadata": {},
      "outputs": [],
      "source": [
        "# Gets a score from a linear regression - starting point.\n",
        "\n",
        "linear_regression = LinearRegression()\n",
        "linear_regression.fit(x_train_standard, y_train)\n",
        "linear_regression.score(x_train_standard, y_train)"
      ]
    },
    {
      "cell_type": "code",
      "execution_count": null,
      "metadata": {},
      "outputs": [],
      "source": [
        "linear_regression.score(x_val_standard, y_val)"
      ]
    },
    {
      "cell_type": "code",
      "execution_count": null,
      "metadata": {},
      "outputs": [],
      "source": [
        "# Runs LassoCV on scaled data.\n",
        "\n",
        "kfold = KFold(shuffle=True, random_state=2**32-1)\n",
        "lasso_cv = LassoCV(alphas=np.arange(734480, 734490, 1), normalize=False, cv=kfold)\n",
        "lasso_cv.fit(x_train_standard, y_train)"
      ]
    },
    {
      "cell_type": "code",
      "execution_count": null,
      "metadata": {},
      "outputs": [],
      "source": [
        "alphas = lasso_cv.alphas_\n",
        "errors = lasso_cv.mse_path_\n",
        "n_folds = 5\n",
        "\n",
        "df_errors = pd.DataFrame(index=alphas, columns=[f'fold_{i+1}' for i in range(n_folds)], data=errors)\n",
        "df_errors['error_mean'] = df_errors.mean(axis=1)\n",
        "df_errors.sort_values('error_mean').head()"
      ]
    },
    {
      "cell_type": "code",
      "execution_count": null,
      "metadata": {},
      "outputs": [],
      "source": [
        "lasso_cv.alpha_"
      ]
    },
    {
      "cell_type": "code",
      "execution_count": null,
      "metadata": {},
      "outputs": [],
      "source": [
        "lasso_cv.score(x_val_standard, y_val)"
      ]
    },
    {
      "cell_type": "code",
      "execution_count": null,
      "metadata": {},
      "outputs": [],
      "source": [
        "plt.figure(figsize=(10, 5))\n",
        "\n",
        "g = sns.lineplot(data=df_errors,\n",
        "                 x=df_errors.index,\n",
        "                 y='error_mean')\n",
        "\n",
        "# Show the selected alpha, above\n",
        "plot_alpha = 734485\n",
        "g.vlines(plot_alpha, df_errors['error_mean'].min(), df_errors['error_mean'].max(), \n",
        "         color='red', linestyles='dashed')\n",
        "\n",
        "g.set_xlabel('alpha')\n",
        "g.set_ylabel('$\\Sigma_{i \\in splits}(MSE_i)$');"
      ]
    },
    {
      "cell_type": "code",
      "execution_count": null,
      "metadata": {},
      "outputs": [],
      "source": [
        "cols = movie_set.drop('Gross', axis=1).columns\n",
        "pd.Series(index=cols, data=lasso_cv.coef_)"
      ]
    },
    {
      "source": [
        "# RE run linear regression"
      ],
      "cell_type": "markdown",
      "metadata": {}
    },
    {
      "cell_type": "code",
      "execution_count": null,
      "metadata": {},
      "outputs": [],
      "source": [
        "drop_1 = ['WarnerBros.', 'PG-13', 'R', 1, 8, 'DirMS', 'Animation', 'Romance', 'Thea2']\n",
        "\n",
        "x_train2 = x_train.drop(columns=drop_1)\n",
        "y_train2 = y_train.copy()\n",
        "\n",
        "x_val2 = x_val.drop(columns=drop_1)\n",
        "y_val2 = y_val.copy()\n",
        "scaler = StandardScaler()\n",
        "x_train2_scaled = scaler.fit_transform(x_train2)\n",
        "x_val2_scaled = scaler.transform(x_val2)\n",
        "\n",
        "linear_regression = LinearRegression()\n",
        "linear_regression.fit(x_train2_scaled, y_train2)\n",
        "linear_regression.score(x_train2_scaled, y_train2)"
      ]
    },
    {
      "cell_type": "code",
      "execution_count": null,
      "metadata": {},
      "outputs": [],
      "source": [
        "linear_regression.score(x_val2_scaled, y_val2)"
      ]
    },
    {
      "cell_type": "code",
      "execution_count": null,
      "metadata": {},
      "outputs": [],
      "source": [
        "for i in range(-10,5):\n",
        "    ridge = Ridge(alpha=10**i)\n",
        "    ridge.fit(x_train_standard, y_train)\n",
        "    print(ridge.coef_, ridge.score(x_val_standard, y_val))"
      ]
    },
    {
      "cell_type": "code",
      "execution_count": null,
      "metadata": {},
      "outputs": [],
      "source": [
        "ridge_cv = RidgeCV()\n",
        "ridge_cv.fit(x_train_standard, y_train)\n",
        "print(ridge_cv.coef_, ridge_cv.score(x_val_standard, y_val))\n",
        "\n",
        "pd.Series(index=cols, data=ridge_cv.coef_[0])"
      ]
    },
    {
      "cell_type": "code",
      "execution_count": null,
      "metadata": {},
      "outputs": [],
      "source": [
        "for i in range(-10,5):\n",
        "    lasso = Lasso(alpha=10**i)\n",
        "    lasso.fit(x_train_standard, y_train)\n",
        "    print(lasso.coef_, lasso.score(x_val_standard, y_val))"
      ]
    },
    {
      "cell_type": "code",
      "execution_count": null,
      "metadata": {},
      "outputs": [],
      "source": []
    },
    {
      "cell_type": "code",
      "execution_count": null,
      "metadata": {},
      "outputs": [],
      "source": [
        "lasso_cv2 = LassoCV()\n",
        "lasso_cv2.fit(x_train2_scaled, y_train2)\n",
        "print(lasso_cv2.score(x_val2_scaled, y_val))\n",
        "\n",
        "cols = x_train2.columns\n",
        "pd.Series(index=cols, data=lasso_cv2.coef_)"
      ]
    },
    {
      "cell_type": "code",
      "execution_count": null,
      "metadata": {},
      "outputs": [],
      "source": [
        "drop_2 = ['TwentiethCenturyFox', 4, 'Adventure', 'Fantasy', 'Sport', 'Mystery']\n",
        "x_train3 = x_train2.drop(columns=drop_2)\n",
        "y_train3 = y_train2.copy()\n",
        "\n",
        "x_val3 = x_val2.drop(columns=drop_2)\n",
        "y_val3 = y_val2.copy()\n",
        "scaler = StandardScaler()\n",
        "x_train3_standard = scaler.fit_transform(x_train3)\n",
        "x_val3_standard = scaler.transform(x_val3)\n",
        "\n",
        "linear_regression = LinearRegression()\n",
        "linear_regression.fit(x_train3_standard, y_train3)\n",
        "linear_regression.score(x_train3_standard, y_train3)"
      ]
    },
    {
      "cell_type": "code",
      "execution_count": null,
      "metadata": {},
      "outputs": [],
      "source": [
        "linear_regression.score(x_val3_standard, y_val3)"
      ]
    },
    {
      "cell_type": "code",
      "execution_count": null,
      "metadata": {},
      "outputs": [],
      "source": [
        "lasso_cv3 = LassoCV()\n",
        "lasso_cv3.fit(x_train3_standard, y_train3)\n",
        "print(lasso_cv3.score(x_val3_standard, y_val3))\n",
        "\n",
        "cols = x_train3.columns\n",
        "pd.Series(index=cols, data=lasso_cv3.coef_)"
      ]
    },
    {
      "cell_type": "code",
      "execution_count": null,
      "metadata": {},
      "outputs": [],
      "source": []
    },
    {
      "cell_type": "code",
      "execution_count": null,
      "metadata": {},
      "outputs": [],
      "source": [
        "from sklearn.model_selection import cross_val_score\n",
        "lm = LinearRegression()\n",
        "\n",
        "cross_val_score(lm, X, y, # estimator, features, target\n",
        "                cv=5, # number of folds \n",
        "                scoring='r2') # scoring metric"
      ]
    },
    {
      "source": [
        "# Run model on test set"
      ],
      "cell_type": "markdown",
      "metadata": {}
    },
    {
      "cell_type": "code",
      "execution_count": null,
      "metadata": {},
      "outputs": [],
      "source": [
        "final_x_test = x_test.drop(columns=['WarnerBros.', 'PG-13', 'R', 1, 8, 'DirMS', 'Animation', 'Romance', 'Thea2', 'TwentiethCenturyFox', 4, 'Adventure', 'Fantasy', 'Sport', 'Mystery'])\n",
        "final_x_test_standard = scaler.transform(final_x_test)\n",
        "linear_regression.score(final_x_test_standard, y_test)"
      ]
    },
    {
      "cell_type": "code",
      "execution_count": null,
      "metadata": {},
      "outputs": [],
      "source": []
    },
    {
      "cell_type": "code",
      "execution_count": null,
      "metadata": {},
      "outputs": [],
      "source": []
    },
    {
      "cell_type": "code",
      "execution_count": null,
      "metadata": {},
      "outputs": [],
      "source": [
        "final_x_test = x_test.drop(columns=['WarnerBros.', 'PG-13', 'R', 1, 8, 'DirMS', 'Animation', 'Romance', 'Thea2', 'TwentiethCenturyFox', 4, 'Adventure', 'Fantasy', 'Sport', 'Mystery'])\n",
        "final_x_test_standard = scaler.transform(final_x_test)\n",
        "test_set_pred = linear_regression.predict(final_x_test_standard)\n",
        "\n",
        "plt.figure(figsize=(10, 6))\n",
        "plt.scatter(test_set_pred, y_test, alpha=.5)\n",
        "plt.axhline(0, linestyle='--', color='gray')\n",
        "plt.xlabel('Predicted Values', fontsize=18)\n",
        "plt.ylabel('Residuals', fontsize=18);\n",
        "plt.title('Linear-Regression Model Residual Plot')"
      ]
    },
    {
      "cell_type": "code",
      "execution_count": null,
      "metadata": {},
      "outputs": [],
      "source": [
        "final_x_test.columns"
      ]
    },
    {
      "cell_type": "code",
      "execution_count": null,
      "metadata": {},
      "outputs": [],
      "source": [
        "greyhound = pd.Series([7.0, 64, 50300000, 4300, 0, 0, 1, 0, 0, 0, 0, 0, 0, 1, 0, 0, 0, 0, 7.0, 1, 0, 0, 0, 1, 0, 0, 0, 0]).values.reshape(1, -1)\n",
        "greyhound_scaled = scaler.transform(greyhound)\n",
        "greyhound_gross = linear_regression.predict(greyhound)"
      ]
    },
    {
      "cell_type": "code",
      "execution_count": null,
      "metadata": {},
      "outputs": [],
      "source": [
        "greyhound_gross"
      ]
    },
    {
      "cell_type": "code",
      "execution_count": null,
      "metadata": {},
      "outputs": [],
      "source": [
        "tenet = pd.Series([7.8, 69, 205000000, 4300, 0, 0, 0, 0, 0, 0, 0, 0, 0, 0, 1, 0, 0, 0, 7.21, 1, 1, 0, 0, 0, 0, 0, 0, 0]).values.reshape(1, -1)\n",
        "tenet_scaled = scaler.transform(tenet)\n",
        "tenet_gross = linear_regression.predict(tenet)"
      ]
    },
    {
      "cell_type": "code",
      "execution_count": null,
      "metadata": {},
      "outputs": [],
      "source": [
        "tenet_gross"
      ]
    },
    {
      "cell_type": "code",
      "execution_count": null,
      "metadata": {},
      "outputs": [],
      "source": [
        "spenser = pd.Series([5.4, 66, 200000000, 4300, 1, 0, 0, 0, 0, 0, 0, 0, 0, 0, 1, 0, 0, 0, 7.2, 1, 0, 0, 0, 1, 0, 0, 0, 0]).values.reshape(1, -1)\n",
        "spenser_scaled = scaler.transform(spenser)\n",
        "spenser_gross = linear_regression.predict(spenser)"
      ]
    },
    {
      "cell_type": "code",
      "execution_count": null,
      "metadata": {},
      "outputs": [],
      "source": [
        "spenser_gross"
      ]
    },
    {
      "cell_type": "code",
      "execution_count": null,
      "metadata": {},
      "outputs": [],
      "source": [
        "kfold = KFold(n_splits=n_folds, shuffle=True, random_state=2**32-1)"
      ]
    },
    {
      "cell_type": "code",
      "execution_count": null,
      "metadata": {},
      "outputs": [],
      "source": [
        "grid = GridSearchCV(estimator=Lasso(normalize=True),  # must be an sklearn estimator\n",
        "                    param_grid={'alpha': np.arange(1000, 1000000, 1000)},\n",
        "                    cv=kfold,\n",
        "                    scoring=make_scorer(mean_squared_error, greater_is_better=False),\n",
        "                    return_train_score=True)\n",
        "grid.fit(x_train_standard, y_train)\n",
        "grid.best_estimator_"
      ]
    },
    {
      "cell_type": "code",
      "execution_count": null,
      "metadata": {},
      "outputs": [],
      "source": [
        "grid.best_score_"
      ]
    },
    {
      "source": [
        "This is promising - When I run this over x_standard, y_standard instead of x_train, y_train, score is very high.  Run on x_train_standard.\n",
        "\n",
        "# Polynomial fit - pair_regressions2\n",
        "# X_standard is x_train scaled.\n",
        "\n"
      ],
      "cell_type": "markdown",
      "metadata": {}
    },
    {
      "cell_type": "code",
      "execution_count": null,
      "metadata": {},
      "outputs": [],
      "source": []
    },
    {
      "cell_type": "code",
      "execution_count": null,
      "metadata": {},
      "outputs": [],
      "source": [
        "linear_regression = LinearRegression()\n",
        "x_train_for_poly = x_train.copy()\n",
        "x_val_for_poly = x_val.copy()\n",
        "p = PolynomialFeatures(degree=2, interaction_only=True)\n",
        "x_train_poly = p.fit_transform(x_train_for_poly)\n",
        "x_val_poly = p.transform(x_val_for_poly)\n",
        "linear_regression.fit(x_train_poly, y_train)\n",
        "linear_regression.score(x_train_poly, y_train)"
      ]
    },
    {
      "cell_type": "code",
      "execution_count": null,
      "metadata": {},
      "outputs": [],
      "source": [
        "\n",
        "linear_regression.score(x_val_poly, y_val)"
      ]
    },
    {
      "cell_type": "code",
      "execution_count": null,
      "metadata": {},
      "outputs": [],
      "source": [
        "lasso_cv2.alpha_"
      ]
    },
    {
      "cell_type": "code",
      "execution_count": null,
      "metadata": {},
      "outputs": [],
      "source": []
    },
    {
      "cell_type": "code",
      "execution_count": null,
      "metadata": {},
      "outputs": [],
      "source": [
        "Is this ready for running test set?\n",
        "Do I nead to scale test set?\n"
      ]
    },
    {
      "source": [
        "# Do I run prediction on scaled inputs?"
      ],
      "cell_type": "markdown",
      "metadata": {}
    },
    {
      "cell_type": "code",
      "execution_count": null,
      "metadata": {},
      "outputs": [],
      "source": [
        "greyhound = pd.Series([7.0, 64, 50300000, 4300, 0, 0, 0, 1, 0, 0, 0, 1, 0, 0, 0, 0, 0, 0, 0, 1, 0, 0, 0, 0, 0, 7.0, 77, 1, 0, 0, 0, 0, 0, 1, 0, 0, 0, 0, 0, 0, 0, 0, 0]).values.reshape(1, 43)\n",
        "m.predict(greyhound)"
      ]
    },
    {
      "cell_type": "code",
      "execution_count": null,
      "metadata": {},
      "outputs": [],
      "source": [
        "m.score(p.transform(x_test),y_test)"
      ]
    },
    {
      "cell_type": "code",
      "execution_count": null,
      "metadata": {},
      "outputs": [],
      "source": [
        "# Polynomial fit - pair_regressions2\n",
        "p = PolynomialFeatures(degree=2,interaction_only=True)\n",
        "x_train_poly = p.fit_transform(x_train)\n",
        "m.fit(x_train_poly,y_train)\n",
        "m.score(x_train_poly,y_train)"
      ]
    },
    {
      "cell_type": "code",
      "execution_count": null,
      "metadata": {},
      "outputs": [],
      "source": [
        "m.score(p.transform(x_test),y_test)"
      ]
    },
    {
      "cell_type": "code",
      "execution_count": null,
      "metadata": {},
      "outputs": [],
      "source": []
    },
    {
      "cell_type": "code",
      "execution_count": null,
      "metadata": {},
      "outputs": [],
      "source": []
    },
    {
      "cell_type": "code",
      "metadata": {},
      "source": [
        "movie_set_corr = movie_set.corr()"
      ],
      "outputs": [],
      "execution_count": null
    },
    {
      "cell_type": "code",
      "execution_count": null,
      "metadata": {},
      "outputs": [],
      "source": [
        "heat_map_df = movie_set[['Gross', 'UserRating', 'Metascore', 'Budget', 'Theaters', 'WaltDisneyStudiosMotionPictures', 'PG-13', 'DirUR', 'DirMS', 'Action', 'Adventure', 'Sci-Fi']]\n",
        "heat_map_corr = heat_map_df.corr()"
      ]
    },
    {
      "cell_type": "code",
      "metadata": {
        "tags": []
      },
      "source": [
        "plt.figure(figsize=(20, 20))\n",
        "plt.rc('xtick', labelsize=20)\n",
        "plt.rc('ytick', labelsize=20)\n",
        "sns.heatmap(heat_map_corr,\n",
        "            cmap=\"seismic\", annot=True, vmin=-1, vmax=1)\n",
        "plt.gca().set_ylim(len(heat_map_corr)+0.5, -0.5)"
      ],
      "outputs": [],
      "execution_count": null
    },
    {
      "cell_type": "code",
      "metadata": {},
      "source": [
        "# sns.pairplot(movie_set, height=1.5, aspect=1)\n",
        "heat_map_df = heat_map_df[['UserRating', 'Metascore', 'Budget', 'Theaters', 'DirUR', 'DirMS', 'Gross']]\n",
        "g = sns.PairGrid(heat_map_df.sample(frac=0.6), diag_sharey=False, corner=True)\n",
        "g.map_lower(sns.scatterplot)\n",
        "g.map_diag(sns.distplot, kde=False)"
      ],
      "outputs": [],
      "execution_count": null
    },
    {
      "cell_type": "code",
      "execution_count": null,
      "metadata": {},
      "outputs": [],
      "source": [
        "lr = LinearRegression()\n",
        "\n",
        "X = movie_set['Budget'].values.reshape(-1, 1)\n",
        "# X = movie_set['Theaters', 'UserRating', 'MetaScore', 'Budget', 'PG', 'PG-13', 'R', '1', '2', '3', '4', '5', '6', '7', '8', '9', '10', '11', '12'].values.reshape(-1, 1)\n",
        "y = movie_set['Gross']\n",
        "\n",
        "lr.fit(X, y)\n",
        "lr.score(X, y)"
      ]
    },
    {
      "cell_type": "code",
      "execution_count": null,
      "metadata": {},
      "outputs": [],
      "source": [
        "lr.predict([[100000000],[200000000]])"
      ]
    },
    {
      "cell_type": "code",
      "execution_count": null,
      "metadata": {},
      "outputs": [],
      "source": [
        "X = movie_set[['Budget', 'DirUR', 'Theaters']]\n",
        "y = movie_set['Gross']\n",
        "\n",
        "lr.fit(X, y)\n",
        "lr.score(X, y)"
      ]
    },
    {
      "cell_type": "code",
      "execution_count": null,
      "metadata": {},
      "outputs": [],
      "source": [
        "lr.predict([[100000000, 7.9, 4300]])"
      ]
    },
    {
      "cell_type": "code",
      "metadata": {},
      "source": [
        "X = movie_set.copy()\n",
        "del X['Gross']\n",
        "y = movie_set['Gross']\n",
        "\n",
        "lr_full.fit(X, y)\n",
        "lr_full.score(X, y)"
      ],
      "outputs": [],
      "execution_count": null
    },
    {
      "cell_type": "code",
      "execution_count": null,
      "metadata": {},
      "outputs": [],
      "source": [
        "sm.add_constant(X).head()"
      ]
    },
    {
      "cell_type": "code",
      "execution_count": null,
      "metadata": {},
      "outputs": [],
      "source": [
        "model = sm.OLS(y, sm.add_constant(X))\n",
        "\n",
        "fit = model.fit()\n",
        "fit.summary()"
      ]
    },
    {
      "cell_type": "code",
      "execution_count": null,
      "metadata": {},
      "outputs": [],
      "source": []
    },
    {
      "cell_type": "code",
      "execution_count": null,
      "metadata": {},
      "outputs": [],
      "source": [
        "plt.figure(figsize=(10, 7))\n",
        "plt.scatter(fit.predict(), fit.resid)\n",
        "\n",
        "plt.axhline(0, linestyle='--', color='gray')\n",
        "plt.xlabel('Predicted Values', fontsize=18)\n",
        "plt.ylabel('Residuals', fontsize=18);"
      ]
    },
    {
      "cell_type": "code",
      "execution_count": null,
      "metadata": {},
      "outputs": [],
      "source": [
        "plt.figure(figsize=(10, 6))\n",
        "sns.jointplot(x=movie_set['Theaters'], y=movie_set['Gross'], data=movie_set, kind='reg');"
      ]
    },
    {
      "source": [
        "## Splitting data into test and train"
      ],
      "cell_type": "markdown",
      "metadata": {}
    },
    {
      "cell_type": "code",
      "execution_count": null,
      "metadata": {},
      "outputs": [],
      "source": [
        "x_train"
      ]
    },
    {
      "cell_type": "code",
      "execution_count": null,
      "metadata": {},
      "outputs": [],
      "source": [
        "prediction = cls.predict(x_test)"
      ]
    },
    {
      "cell_type": "code",
      "execution_count": null,
      "metadata": {},
      "outputs": [],
      "source": [
        "cls.get_params()"
      ]
    },
    {
      "cell_type": "code",
      "execution_count": null,
      "metadata": {
        "tags": []
      },
      "outputs": [],
      "source": [
        "print('Co-efficient of linear regression',cls.coef_)\n",
        "print('Intercept of linear regression model',cls.intercept_)\n",
        "print('Mean Square Error', metrics.mean_squared_error(y_test, prediction))\n",
        "print('Model R^2 Square value', metrics.r2_score(y_test, prediction))"
      ]
    },
    {
      "cell_type": "code",
      "execution_count": null,
      "metadata": {},
      "outputs": [],
      "source": [
        "plt.figure(figsize=(10, 6))\n",
        "plt.scatter(x_test, y_test)\n",
        "plt.plot(x_test, prediction, color='red', linewidth=3)\n",
        "plt.xlabel('Hours')\n",
        "plt.ylabel('Marks')\n",
        "plt.title('Linear Regression');"
      ]
    },
    {
      "cell_type": "code",
      "execution_count": null,
      "metadata": {},
      "outputs": [],
      "source": [
        "plt.figure(figsize=(10, 6))\n",
        "plt.scatter(cls.predict(x_test), cls.predict(x_test) - y_test, c='g', s = 40)\n",
        "plt.hlines(y=0, xmin=0, xmax=100)\n",
        "plt.title('Residual plot')\n",
        "plt.ylabel('Residual');"
      ]
    },
    {
      "source": [
        "## Polynomial Regression"
      ],
      "cell_type": "markdown",
      "metadata": {}
    },
    {
      "cell_type": "code",
      "execution_count": null,
      "metadata": {},
      "outputs": [],
      "source": [
        "lr_full = LinearRegression()\n",
        "\n",
        "X = movie_set[['Theaters', 'WaltDisneyStudiosMotionPictures', 'UniversalPictures', 'TwentiethCenturyFox', 'SonyPicturesEntertainment(SPE)', 'ParamountPictures', 'WarnerBros.']]\n",
        "y = movie_set['Gross']\n",
        "\n",
        "lr_full.fit(X, y)\n",
        "lr_full.score(X, y)"
      ]
    },
    {
      "cell_type": "code",
      "execution_count": null,
      "metadata": {},
      "outputs": [],
      "source": [
        "lr_full.predict([[4300,1,0,0,0,0,0]])"
      ]
    },
    {
      "cell_type": "code",
      "execution_count": null,
      "metadata": {},
      "outputs": [],
      "source": [
        "p = PolynomialFeatures()\n",
        "\n",
        "X_poly = p.fit_transform(X)\n",
        "\n",
        "lr_full = LinearRegression()\n",
        "lr_full.fit(X_poly, y)\n",
        "lr_full.score(X_poly, y)"
      ]
    },
    {
      "cell_type": "code",
      "execution_count": null,
      "metadata": {},
      "outputs": [],
      "source": [
        "X.shape\n",
        "X_poly.shape"
      ]
    },
    {
      "cell_type": "code",
      "execution_count": null,
      "metadata": {},
      "outputs": [],
      "source": [
        "dataset = movie_set\n",
        "X = dataset[['Theaters']].values  \n",
        "y = dataset.loc[:,'Gross'].values\n",
        "\n",
        "plt.style.use('default')\n",
        "\n",
        "# fig = plt.figure(figsize=(12, 4))# fig = plt.figure(figsize=(12, 4))\n",
        "\n",
        "# ax1 = fig.add_subplot(131, projection='3d')\n",
        "# ax2 = fig.add_subplot(132, projection='3d')\n",
        "plt.style.use('default')\n",
        "\n",
        "# fig = plt.figure(figsize=(12, 4)), 2))\n",
        "y = np.reshape(y, (-1, 1))\n",
        "# fitting the linear regression model\n",
        "from sklearn.linear_model import LinearRegression\n",
        "lin_reg = LinearRegression()\n",
        "lin_reg.fit(X,y)\n",
        " \n",
        "# visualising the linear regression model\n",
        "plt.scatter(X,y, color='red')\n",
        "plt.plot(X, lin_reg.predict(X),color='blue')\n",
        "plt.title(\"Gross by Theaters (Linear)\")\n",
        "plt.xlabel('Number of Theaters')\n",
        "plt.ylabel('Gross')\n",
        "plt.show()\n",
        " \n",
        "# polynomial regression model\n",
        "from sklearn.preprocessing import PolynomialFeatures\n",
        "poly_reg = PolynomialFeatures(degree=2)\n",
        "X_poly = poly_reg.fit_transform(X)\n",
        "\n",
        "lin_reg2 = LinearRegression()\n",
        "lin_reg2.fit(X_poly,y)\n",
        " \n",
        " \n",
        "# visualising polynomial regression\n",
        "from sklearn.preprocessing import PolynomialFeatures\n",
        "poly_reg = PolynomialFeatures(degree=4)\n",
        "X_poly = poly_reg.fit_transform(X)\n",
        "lin_reg2 = LinearRegression()\n",
        "lin_reg2.fit(X_poly,y)\n",
        "  \n",
        "X_grid = np.arange(min(X),max(X),0.1)\n",
        "X_grid = X_grid.reshape(len(X_grid),1) \n",
        "plt.scatter(X,y, color='red') \n",
        "  \n",
        "plt.plot(X_grid, lin_reg2.predict(poly_reg.fit_transform(X_grid)),color='blue') \n",
        "  \n",
        "plt.title(\"Gross by Theaters (Polynomial)\")\n",
        "plt.xlabel('Number of Theaters')\n",
        "plt.ylabel('Gross')\n",
        "plt.show()"
      ]
    },
    {
      "cell_type": "code",
      "execution_count": null,
      "metadata": {},
      "outputs": [],
      "source": [
        "dataset = movie_set\n",
        "X = dataset[['UserRating']].values  \n",
        "y = dataset.loc[:,'Gross'].values\n",
        "\n",
        "plt.style.use('default')\n",
        "\n",
        "# fig = plt.figure(figsize=(12, 4))# fig = plt.figure(figsize=(12, 4))\n",
        "\n",
        "# ax1 = fig.add_subplot(131, projection='3d')\n",
        "# ax2 = fig.add_subplot(132, projection='3d')\n",
        "plt.style.use('default')\n",
        "\n",
        "# fig = plt.figure(figsize=(12, 4)), 2))\n",
        "y = np.reshape(y, (-1, 1))\n",
        "# fitting the linear regression model\n",
        "from sklearn.linear_model import LinearRegression\n",
        "lin_reg = LinearRegression()\n",
        "lin_reg.fit(X,y)\n",
        " \n",
        "# visualising the linear regression model\n",
        "plt.scatter(X,y, color='red')\n",
        "plt.plot(X, lin_reg.predict(X),color='blue')\n",
        "plt.title(\"Gross by User Rating (Linear)\")\n",
        "plt.xlabel('User Rating')\n",
        "plt.ylabel('Gross')\n",
        "plt.show()\n",
        " \n",
        "# polynomial regression model\n",
        "from sklearn.preprocessing import PolynomialFeatures\n",
        "poly_reg = PolynomialFeatures(degree=2)\n",
        "X_poly = poly_reg.fit_transform(X)\n",
        "\n",
        "lin_reg2 = LinearRegression()\n",
        "lin_reg2.fit(X_poly,y)\n",
        " \n",
        " \n",
        "# visualising polynomial regression\n",
        "from sklearn.preprocessing import PolynomialFeatures\n",
        "poly_reg = PolynomialFeatures(degree=4)\n",
        "X_poly = poly_reg.fit_transform(X)\n",
        "lin_reg2 = LinearRegression()\n",
        "lin_reg2.fit(X_poly,y)\n",
        "  \n",
        "X_grid = np.arange(min(X),max(X),0.1)\n",
        "X_grid = X_grid.reshape(len(X_grid),1) \n",
        "plt.scatter(X,y, color='red') \n",
        "  \n",
        "plt.plot(X_grid, lin_reg2.predict(poly_reg.fit_transform(X_grid)),color='blue') \n",
        "  \n",
        "plt.title(\"Gross by User Rating (Polynomial)\")\n",
        "plt.xlabel('Number of User Rating')\n",
        "plt.ylabel('Gross')\n",
        "plt.show()"
      ]
    },
    {
      "cell_type": "code",
      "execution_count": null,
      "metadata": {
        "tags": []
      },
      "outputs": [],
      "source": [
        "# dataset = movie_set\n",
        "# X = dataset[['Theaters','WaltDisneyStudiosMotionPictures']].values  \n",
        "# Y = dataset.loc[:,'Gross'].values\n",
        "# X = np.reshape(X, (-1, 2))\n",
        "# Y = np.reshape(y, (-1, 1))\n",
        "\n",
        "# x = X[:, 0]\n",
        "# y = X[:, 1]\n",
        "# z = Y\n",
        "# x = np.reshape(x, (-1, 1))\n",
        "# y = np.reshape(y, (-1, 1))\n",
        "\n",
        "# xx_pred, yy_pred = np.meshgrid(dataset['Theaters'], dataset['WaltDisneyStudiosMotionPictures'])\n",
        "# model_viz = np.array([xx_pred.flatten(), yy_pred.flatten()]).T\n",
        "\n",
        "# # fitting the linear regression model\n",
        "# from sklearn.linear_model import LinearRegression\n",
        "# lin_reg = LinearRegression()\n",
        "# model = lin_reg.fit(X, Y)\n",
        "# predicted = model.predict(model_viz)\n",
        "# r2 = model.score(X, Y)\n",
        "\n",
        "# plt.style.use('default')\n",
        "\n",
        "# fig = plt.figure(figsize=(12, 4))\n",
        "\n",
        "# ax1 = fig.add_subplot(131, projection='3d')\n",
        "# ax2 = fig.add_subplot(132, projection='3d')\n",
        "# ax3 = fig.add_subplot(133, projection='3d')\n",
        "\n",
        "# axes = [ax1, ax2, ax3]\n",
        "\n",
        "# for ax in axes:\n",
        "#     # ax.plot(x, y, z, color='k', zorder=15, linestyle='none', marker='o', alpha=0.5)\n",
        "#     ax.scatter(xx_pred.flatten(), yy_pred.flatten(), predicted, facecolor=(0,0,0,0), s=20, edgecolor='#70b3f0')\n",
        "#     ax.set_xlabel('Porosity (%)', fontsize=12)\n",
        "#     ax.set_ylabel('Brittleness', fontsize=12)\n",
        "#     ax.set_zlabel('Gas Prod. (Mcf/day)', fontsize=12)\n",
        "#     ax.locator_params(nbins=4, axis='x')\n",
        "#     ax.locator_params(nbins=5, axis='x')\n",
        "\n",
        "# ax1.text2D(0.2, 0.32, 'aegis4048.github.io', fontsize=13, ha='center', va='center',\n",
        "#            transform=ax1.transAxes, color='grey', alpha=0.5)\n",
        "# ax2.text2D(0.3, 0.42, 'aegis4048.github.io', fontsize=13, ha='center', va='center',\n",
        "#            transform=ax2.transAxes, color='grey', alpha=0.5)\n",
        "# ax3.text2D(0.85, 0.85, 'aegis4048.github.io', fontsize=13, ha='center', va='center',\n",
        "#            transform=ax3.transAxes, color='grey', alpha=0.5)\n",
        "\n",
        "# ax1.view_init(elev=28, azim=120)\n",
        "# ax2.view_init(elev=4, azim=114)\n",
        "# ax3.view_init(elev=60, azim=165)\n",
        "\n",
        "# fig.suptitle('$R^2 = %.2f$' % r2, fontsize=20)\n",
        "\n",
        "# fig.tight_layout()"
      ]
    },
    {
      "cell_type": "code",
      "execution_count": null,
      "metadata": {},
      "outputs": [],
      "source": [
        "r2 ** 0.5"
      ]
    },
    {
      "cell_type": "code",
      "execution_count": null,
      "metadata": {},
      "outputs": [],
      "source": [
        "predicted.shape"
      ]
    },
    {
      "cell_type": "code",
      "execution_count": null,
      "metadata": {},
      "outputs": [],
      "source": []
    }
  ],
  "metadata": {
    "anaconda-cloud": {},
    "kernelspec": {
      "name": "Python 3.8.5 64-bit ('metis': conda)",
      "display_name": "Python 3.8.5 64-bit ('metis': conda)",
      "metadata": {
        "interpreter": {
          "hash": "1a0499c7a4a50afe9d0222578684e6b7d0a5b28e1d6168b6dad088fd14a794c9"
        }
      }
    },
    "language_info": {
      "codemirror_mode": {
        "name": "ipython",
        "version": 3
      },
      "file_extension": ".py",
      "mimetype": "text/x-python",
      "name": "python",
      "nbconvert_exporter": "python",
      "pygments_lexer": "ipython3",
      "version": "3.8.5-final"
    }
  },
  "nbformat": 4,
  "nbformat_minor": 4
}